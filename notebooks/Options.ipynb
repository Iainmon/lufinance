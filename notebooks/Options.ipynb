{
    "cells": [
        {
            "cell_type": "markdown",
            "source": [
                "## Imports"
            ],
            "metadata": {}
        },
        {
            "cell_type": "code",
            "execution_count": 24,
            "source": [
                "%load_ext autoreload\n",
                "%autoreload 2\n",
                "\n",
                "\n",
                "from imports import *\n",
                "\n",
                "import lufinance as lf\n",
                "from lufinance import utils\n",
                "from lufinance import Option, ExpirationCycle\n",
                "\n"
            ],
            "outputs": [
                {
                    "output_type": "stream",
                    "name": "stdout",
                    "text": [
                        "The autoreload extension is already loaded. To reload it, use:\n",
                        "  %reload_ext autoreload\n"
                    ]
                }
            ],
            "metadata": {}
        },
        {
            "cell_type": "code",
            "execution_count": 32,
            "source": [
                "case = {\n",
                "     'contract_name': 'BABA230616P00350000',\n",
                "     'last_trade_date': '2021-06-22 19:21:00',\n",
                "     'strike': 350.0,\n",
                "     'last_price': 145.94,\n",
                "     'bid': 140.45,\n",
                "     'ask': 142.0,\n",
                "     'change': 0.0,\n",
                "     'percent_change': 0.0,\n",
                "     'volume': '2',\n",
                "     'open_interest': 9,\n",
                "     'implied_volatility': 0.0,\n",
                "     'option_type': 'CALL',\n",
                "     'captured_at': '2021-08-13 06:06:25.131000',\n",
                "     'bid_ask': 1.5500000000000114,\n",
                "     'ticker': 'BABA',\n",
                "     'expiration_date': '2023-06-16 00:00:00'\n",
                "    }\n",
                "\n",
                "assert Option(case).as_dict() == case\n",
                "\n",
                "exp_cycle = ExpirationCycle.from_symbol_expiry_pair('AAPL')\n",
                "exp_cycle"
            ],
            "outputs": [
                {
                    "output_type": "error",
                    "ename": "NameError",
                    "evalue": "name 'Option' is not defined",
                    "traceback": [
                        "\u001b[0;31m---------------------------------------------------------------------------\u001b[0m",
                        "\u001b[0;31mNameError\u001b[0m                                 Traceback (most recent call last)",
                        "\u001b[0;32m/var/folders/ng/5z4dysxd4_s3jf4qg2kdwy5r0000gn/T/ipykernel_95495/692422848.py\u001b[0m in \u001b[0;36m<module>\u001b[0;34m\u001b[0m\n\u001b[1;32m     18\u001b[0m     }\n\u001b[1;32m     19\u001b[0m \u001b[0;34m\u001b[0m\u001b[0m\n\u001b[0;32m---> 20\u001b[0;31m \u001b[0;32massert\u001b[0m \u001b[0mOption\u001b[0m\u001b[0;34m(\u001b[0m\u001b[0mcase\u001b[0m\u001b[0;34m)\u001b[0m\u001b[0;34m.\u001b[0m\u001b[0mas_dict\u001b[0m\u001b[0;34m(\u001b[0m\u001b[0;34m)\u001b[0m \u001b[0;34m==\u001b[0m \u001b[0mcase\u001b[0m\u001b[0;34m\u001b[0m\u001b[0;34m\u001b[0m\u001b[0m\n\u001b[0m\u001b[1;32m     21\u001b[0m \u001b[0;34m\u001b[0m\u001b[0m\n\u001b[1;32m     22\u001b[0m \u001b[0mexp_cycle\u001b[0m \u001b[0;34m=\u001b[0m \u001b[0mExpirationCycle\u001b[0m\u001b[0;34m.\u001b[0m\u001b[0mfrom_symbol_expiry_pair\u001b[0m\u001b[0;34m(\u001b[0m\u001b[0;34m'AAPL'\u001b[0m\u001b[0;34m)\u001b[0m\u001b[0;34m\u001b[0m\u001b[0;34m\u001b[0m\u001b[0m\n",
                        "\u001b[0;31mNameError\u001b[0m: name 'Option' is not defined"
                    ]
                }
            ],
            "metadata": {}
        },
        {
            "cell_type": "code",
            "execution_count": null,
            "source": [],
            "outputs": [],
            "metadata": {}
        },
        {
            "cell_type": "code",
            "execution_count": null,
            "source": [],
            "outputs": [],
            "metadata": {}
        }
    ],
    "metadata": {
        "orig_nbformat": 4,
        "language_info": {
            "name": "python",
            "version": "3.9.6",
            "mimetype": "text/x-python",
            "codemirror_mode": {
                "name": "ipython",
                "version": 3
            },
            "pygments_lexer": "ipython3",
            "nbconvert_exporter": "python",
            "file_extension": ".py"
        },
        "kernelspec": {
            "name": "python3",
            "display_name": "Python 3.9.6 64-bit"
        },
        "interpreter": {
            "hash": "aee8b7b246df8f9039afb4144a1f6fd8d2ca17a180786b69acc140d282b71a49"
        }
    },
    "nbformat": 4,
    "nbformat_minor": 2
}